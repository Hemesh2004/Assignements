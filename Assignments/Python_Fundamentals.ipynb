{
  "nbformat": 4,
  "nbformat_minor": 0,
  "metadata": {
    "colab": {
      "provenance": []
    },
    "kernelspec": {
      "name": "python3",
      "display_name": "Python 3"
    },
    "language_info": {
      "name": "python"
    }
  },
  "cells": [
    {
      "cell_type": "markdown",
      "source": [
        "### **PYTHON FUNDAMENTALS**"
      ],
      "metadata": {
        "id": "qRbVI9QnB6lh"
      }
    },
    {
      "cell_type": "markdown",
      "source": [
        "QUESTION 1"
      ],
      "metadata": {
        "id": "70RMvlV-ByaJ"
      }
    },
    {
      "cell_type": "code",
      "execution_count": null,
      "metadata": {
        "colab": {
          "base_uri": "https://localhost:8080/"
        },
        "id": "dgp1WwoP-VET",
        "outputId": "2685dd3a-a602-41b0-f8c5-82c840478951"
      },
      "outputs": [
        {
          "output_type": "stream",
          "name": "stdout",
          "text": [
            "Ente the two numbers: 3,5\n",
            "[[0, 0, 0, 0, 0], [0, 1, 2, 3, 4], [0, 2, 4, 6, 8]]\n"
          ]
        }
      ],
      "source": [
        "input_str = input(\"Ente the two numbers: \")\n",
        "X,Y = map(int,input_str.split(','))\n",
        "result = [[i*j for j in range(Y)] for i in range(X)]\n",
        "print(result)\n"
      ]
    },
    {
      "cell_type": "markdown",
      "source": [
        "Q2"
      ],
      "metadata": {
        "id": "iIATkQ_cCKcG"
      }
    },
    {
      "cell_type": "code",
      "source": [
        "input_str = input(\"Enter the words seperated by comma\")\n",
        "words = input_str.split(',')\n",
        "words.sort()\n",
        "sorted_output = ','.join(words)\n",
        "print(sorted_output)"
      ],
      "metadata": {
        "colab": {
          "base_uri": "https://localhost:8080/"
        },
        "id": "96qaARQEBIZf",
        "outputId": "0b42a321-1dd4-4504-924f-b7edabbd3eb4"
      },
      "execution_count": null,
      "outputs": [
        {
          "output_type": "stream",
          "name": "stdout",
          "text": [
            "Enter the words seperated by commahi,bag,welcome\n",
            "bag,hi,welcome\n"
          ]
        }
      ]
    },
    {
      "cell_type": "markdown",
      "source": [
        "Q3"
      ],
      "metadata": {
        "id": "_4qCOBDoB5mR"
      }
    },
    {
      "cell_type": "code",
      "source": [
        "input_str = input(\"Enter a sequence of words separated by spaces: \")\n",
        "words = input_str.split()\n",
        "unique_words = set(words)\n",
        "sorted_words = sorted(unique_words)\n",
        "output_str = ' '.join(sorted_words)\n",
        "print(output_str)"
      ],
      "metadata": {
        "colab": {
          "base_uri": "https://localhost:8080/"
        },
        "id": "ExH87pptfw8X",
        "outputId": "51b848b3-e2ec-4e9c-a9cb-d6ef90cf85d2"
      },
      "execution_count": null,
      "outputs": [
        {
          "output_type": "stream",
          "name": "stdout",
          "text": [
            "Enter a sequence of words separated by spaces: hello world and practice makes perfect and hello world again\n",
            "again and hello makes perfect practice world\n"
          ]
        }
      ]
    },
    {
      "cell_type": "markdown",
      "source": [
        "Q4"
      ],
      "metadata": {
        "id": "G4d_fUjbgpsA"
      }
    },
    {
      "cell_type": "code",
      "source": [
        "results = []\n",
        "for num in range(1000,3001):\n",
        "  num_str = str(num)\n",
        "  if all(int(digit) % 2 == 0 for digit in num_str):\n",
        "    results.append(num_str)\n",
        "output_str = ','.join(results)\n",
        "print(output_str)"
      ],
      "metadata": {
        "colab": {
          "base_uri": "https://localhost:8080/"
        },
        "id": "l-f5GwbDgk1B",
        "outputId": "ca0c8dd2-03d5-4dc8-ba88-95facc0de52d"
      },
      "execution_count": null,
      "outputs": [
        {
          "output_type": "stream",
          "name": "stdout",
          "text": [
            "2000,2002,2004,2006,2008,2020,2022,2024,2026,2028,2040,2042,2044,2046,2048,2060,2062,2064,2066,2068,2080,2082,2084,2086,2088,2200,2202,2204,2206,2208,2220,2222,2224,2226,2228,2240,2242,2244,2246,2248,2260,2262,2264,2266,2268,2280,2282,2284,2286,2288,2400,2402,2404,2406,2408,2420,2422,2424,2426,2428,2440,2442,2444,2446,2448,2460,2462,2464,2466,2468,2480,2482,2484,2486,2488,2600,2602,2604,2606,2608,2620,2622,2624,2626,2628,2640,2642,2644,2646,2648,2660,2662,2664,2666,2668,2680,2682,2684,2686,2688,2800,2802,2804,2806,2808,2820,2822,2824,2826,2828,2840,2842,2844,2846,2848,2860,2862,2864,2866,2868,2880,2882,2884,2886,2888\n"
          ]
        }
      ]
    },
    {
      "cell_type": "markdown",
      "source": [
        "Q5"
      ],
      "metadata": {
        "id": "s4QsV7jgncyX"
      }
    },
    {
      "cell_type": "code",
      "source": [
        "user_input = input(\"Enter the sentence: \")\n",
        "sentence = ''.join(user_input.split(','))\n",
        "letter_count = 0\n",
        "digit_count = 0\n",
        "\n",
        "for char in sentence:\n",
        "  if char.isalpha():\n",
        "    letter_count+=1\n",
        "  elif char.isdigit():\n",
        "    digit_count+=1\n",
        "print(\"LETTERS\",letter_count)\n",
        "print(\"DIGITS\",digit_count)"
      ],
      "metadata": {
        "id": "EnfEm_XUi51G",
        "colab": {
          "base_uri": "https://localhost:8080/"
        },
        "outputId": "8c2d8f6b-cde8-4785-9d28-6d7021c53b64"
      },
      "execution_count": null,
      "outputs": [
        {
          "output_type": "stream",
          "name": "stdout",
          "text": [
            "Enter the sentence: hello world! 123\n",
            "LETTERS 10\n",
            "DIGITS 3\n"
          ]
        }
      ]
    },
    {
      "cell_type": "markdown",
      "source": [
        "Q6"
      ],
      "metadata": {
        "id": "i0oqzufHw64N"
      }
    },
    {
      "cell_type": "code",
      "source": [
        "user_input = input(\"Enter the sentence: \")\n",
        "sentence = ''.join(user_input.split(','))\n",
        "upper_case = 0\n",
        "lower_case = 0\n",
        "\n",
        "for char in sentence:\n",
        "  if char.isupper():\n",
        "    upper_case+=1\n",
        "  elif char.islower():\n",
        "    lower_case+=1\n",
        "print(\"UPPER CASE\",upper_case)\n",
        "print(\"LOWER CASE\",lower_case)"
      ],
      "metadata": {
        "colab": {
          "base_uri": "https://localhost:8080/"
        },
        "id": "RKIUmqaWqAFn",
        "outputId": "ec89cec2-6d26-4242-b318-07e0cfea3bf6"
      },
      "execution_count": null,
      "outputs": [
        {
          "output_type": "stream",
          "name": "stdout",
          "text": [
            "Enter the sentence: Hello,world!\n",
            "UPPER CASE 1\n",
            "LOWER CASE 9\n"
          ]
        }
      ]
    },
    {
      "cell_type": "markdown",
      "source": [
        "Q7"
      ],
      "metadata": {
        "id": "NuPfksC_R8Y2"
      }
    },
    {
      "cell_type": "code",
      "source": [
        "def compute_amt():\n",
        "  transactions = input(\"Enter the transactions: \")\n",
        "  transactions_list= transactions.split(',')\n",
        "\n",
        "  net_amt = 0\n",
        "  for transactions in transactions_list:\n",
        "    if transaction[0] == 'D':\n",
        "      net_amt += int(transaction[2:])\n",
        "    elif transaction[0] == 'W':\n",
        "      net_amt -= int(transaction[2:])\n",
        "  return net_amt"
      ],
      "metadata": {
        "id": "BctsnmytxFuN"
      },
      "execution_count": null,
      "outputs": []
    },
    {
      "cell_type": "markdown",
      "source": [
        "Q8"
      ],
      "metadata": {
        "id": "y_XFKrSyR-Hk"
      }
    },
    {
      "cell_type": "code",
      "source": [
        "import re\n",
        "input_str = input()\n",
        "passwords = input_str.split(',')\n",
        "valid = []\n",
        "for p in passwords:\n",
        "    if 6 <= len(p) <= 12:\n",
        "        if re.search(\"[a-z]\", p) and re.search(\"[A-Z]\", p) and re.search(\"[0-9]\", p) and re.search(\"[$#@]\", p):\n",
        "            valid.append(p)\n",
        "print(\",\".join(valid))\n"
      ],
      "metadata": {
        "id": "E3jY6tMzR_Rj",
        "colab": {
          "base_uri": "https://localhost:8080/"
        },
        "outputId": "a4b8c954-db60-43d3-dcc3-d92067d6c98b"
      },
      "execution_count": 1,
      "outputs": [
        {
          "output_type": "stream",
          "name": "stdout",
          "text": [
            "ABd1234@1,a F1#,2w3E*,2We3345\n",
            "ABd1234@1\n"
          ]
        }
      ]
    },
    {
      "cell_type": "markdown",
      "source": [
        "Q9"
      ],
      "metadata": {
        "id": "eETV1APVR_1k"
      }
    },
    {
      "cell_type": "code",
      "source": [
        "data = []\n",
        "while True:\n",
        "    try:\n",
        "        line = input()\n",
        "        if not line:\n",
        "            break\n",
        "        data.append(tuple(line.split(\",\")))\n",
        "    except:\n",
        "        break\n",
        "sorted_data = sorted(data, key=lambda x: (x[0], int(x[1]), int(x[2])))\n",
        "print(sorted_data)\n"
      ],
      "metadata": {
        "id": "NUiJ6uNXSBCO",
        "colab": {
          "base_uri": "https://localhost:8080/"
        },
        "outputId": "29e7a3aa-480a-41c7-a915-def67e443045"
      },
      "execution_count": 3,
      "outputs": [
        {
          "output_type": "stream",
          "name": "stdout",
          "text": [
            "Tom,19,80\n",
            "John,20,90\n",
            "Jony,17,91\n",
            "Jony,17,93\n",
            "Json,21,85\n",
            "Tom,19,80\n",
            "\n",
            "[('John', '20', '90'), ('Jony', '17', '91'), ('Jony', '17', '93'), ('Json', '21', '85'), ('Tom', '19', '80'), ('Tom', '19', '80')]\n"
          ]
        }
      ]
    },
    {
      "cell_type": "markdown",
      "source": [
        "Q10"
      ],
      "metadata": {
        "id": "XgfftLA3SBXr"
      }
    },
    {
      "cell_type": "code",
      "source": [
        "import math\n",
        "x = y = 0\n",
        "while True:\n",
        "    try:\n",
        "        line = input()\n",
        "        if not line:\n",
        "            break\n",
        "        direction, steps = line.split()\n",
        "        steps = int(steps)\n",
        "        if direction == \"UP\":\n",
        "            y += steps\n",
        "        elif direction == \"DOWN\":\n",
        "            y -= steps\n",
        "        elif direction == \"LEFT\":\n",
        "            x -= steps\n",
        "        elif direction == \"RIGHT\":\n",
        "            x += steps\n",
        "    except:\n",
        "        break\n",
        "print(round(math.sqrt(x**2 + y**2)))\n"
      ],
      "metadata": {
        "id": "7IXSm1ppSCNL",
        "colab": {
          "base_uri": "https://localhost:8080/"
        },
        "outputId": "4b7df97a-b36a-4774-9781-c2ae2abce6cb"
      },
      "execution_count": 4,
      "outputs": [
        {
          "output_type": "stream",
          "name": "stdout",
          "text": [
            "UP 5\n",
            "DOWN 3\n",
            "LEFT 3\n",
            "RIGHT 2\n",
            "\n",
            "2\n"
          ]
        }
      ]
    },
    {
      "cell_type": "markdown",
      "source": [
        "Q11"
      ],
      "metadata": {
        "id": "ghbGvnhESC5S"
      }
    },
    {
      "cell_type": "code",
      "source": [
        "s = input().lower()\n",
        "res = \"\"\n",
        "count = 1\n",
        "for i in range(1, len(s)):\n",
        "    if s[i] == s[i - 1]:\n",
        "        count += 1\n",
        "    else:\n",
        "        res += s[i - 1] + str(count)\n",
        "        count = 1\n",
        "res += s[-1] + str(count)\n",
        "print(res)"
      ],
      "metadata": {
        "id": "qvFpvp3BSD5C",
        "colab": {
          "base_uri": "https://localhost:8080/"
        },
        "outputId": "3bc88304-05c1-4831-b840-a5abed35ee11"
      },
      "execution_count": 6,
      "outputs": [
        {
          "output_type": "stream",
          "name": "stdout",
          "text": [
            "Aabbcdeefffaabbcc\n",
            "a2b2c1d1e2f3a2b2c2\n"
          ]
        }
      ]
    },
    {
      "cell_type": "markdown",
      "source": [
        "Q12"
      ],
      "metadata": {
        "id": "rKuLRLHJSESI"
      }
    },
    {
      "cell_type": "code",
      "source": [
        "s = input()\n",
        "res = []\n",
        "for i in range(len(s)):\n",
        "    if s[i].isalpha():\n",
        "        for j in range(i + 1, len(s)):\n",
        "            if s[j].isalpha():\n",
        "                digits = s[i + 1:j]\n",
        "                if digits.isdigit() and sum(int(d) for d in digits) == 9:\n",
        "                    res.append((s[i], s[j]))\n",
        "                break\n",
        "for r in res:\n",
        "    print(f\"{r[0]},{r[1]}\")\n"
      ],
      "metadata": {
        "id": "IaJ92sBzSFO4",
        "colab": {
          "base_uri": "https://localhost:8080/"
        },
        "outputId": "e8b683ef-879b-44e4-c7ae-ef82e06a6938"
      },
      "execution_count": 7,
      "outputs": [
        {
          "output_type": "stream",
          "name": "stdout",
          "text": [
            "a54b12c\n",
            "a,b\n"
          ]
        }
      ]
    },
    {
      "cell_type": "markdown",
      "source": [
        "Q13"
      ],
      "metadata": {
        "id": "7GjlWCf4SFr7"
      }
    },
    {
      "cell_type": "code",
      "source": [
        "s = input()\n",
        "ones = [i for i, c in enumerate(s) if c == '1']\n",
        "print(len(ones) * (len(ones) - 1) // 2)"
      ],
      "metadata": {
        "id": "ioN9VPmHSGdC",
        "colab": {
          "base_uri": "https://localhost:8080/"
        },
        "outputId": "bf28da1c-1c50-4c87-e02e-23b1393aa675"
      },
      "execution_count": 8,
      "outputs": [
        {
          "output_type": "stream",
          "name": "stdout",
          "text": [
            "100101\n",
            "3\n"
          ]
        }
      ]
    },
    {
      "cell_type": "markdown",
      "source": [
        "Q14"
      ],
      "metadata": {
        "id": "W3cALECASG6G"
      }
    },
    {
      "cell_type": "code",
      "source": [
        "valid_currency = list(map(int, input().split(',')))\n",
        "money = int(input())\n",
        "valid_currency.sort(reverse=True)\n",
        "for c in valid_currency:\n",
        "    if money >= c:\n",
        "        count = money // c\n",
        "        print(f\"{c}-{count}\")\n",
        "        money %= c"
      ],
      "metadata": {
        "id": "7vXSOsuASIvy",
        "colab": {
          "base_uri": "https://localhost:8080/"
        },
        "outputId": "417c6505-5b02-4cb6-d083-f5e04b122fdd"
      },
      "execution_count": 11,
      "outputs": [
        {
          "output_type": "stream",
          "name": "stdout",
          "text": [
            "1,2,5,10,20,50,100,200,500,2000\n",
            "210\n",
            "200-1\n",
            "10-1\n"
          ]
        }
      ]
    },
    {
      "cell_type": "markdown",
      "source": [
        "Q15"
      ],
      "metadata": {
        "id": "2P1n5_1vSJJq"
      }
    },
    {
      "cell_type": "code",
      "source": [
        "import math\n",
        "def comb(n, r):\n",
        "    return math.comb(n, r)\n",
        "n = int(input().split('=')[1])\n",
        "m = int(input().split('=')[1])\n",
        "print(comb(n - m + 1, m))"
      ],
      "metadata": {
        "id": "CnMbwGNpSKQs",
        "colab": {
          "base_uri": "https://localhost:8080/",
          "height": 228
        },
        "outputId": "fe096660-09eb-450d-ce91-cdf2f63ea2d4"
      },
      "execution_count": 14,
      "outputs": [
        {
          "name": "stdout",
          "output_type": "stream",
          "text": [
            "4\n"
          ]
        },
        {
          "output_type": "error",
          "ename": "IndexError",
          "evalue": "list index out of range",
          "traceback": [
            "\u001b[0;31m---------------------------------------------------------------------------\u001b[0m",
            "\u001b[0;31mIndexError\u001b[0m                                Traceback (most recent call last)",
            "\u001b[0;32m<ipython-input-14-85d72e218917>\u001b[0m in \u001b[0;36m<cell line: 0>\u001b[0;34m()\u001b[0m\n\u001b[1;32m      2\u001b[0m \u001b[0;32mdef\u001b[0m \u001b[0mcomb\u001b[0m\u001b[0;34m(\u001b[0m\u001b[0mn\u001b[0m\u001b[0;34m,\u001b[0m \u001b[0mr\u001b[0m\u001b[0;34m)\u001b[0m\u001b[0;34m:\u001b[0m\u001b[0;34m\u001b[0m\u001b[0;34m\u001b[0m\u001b[0m\n\u001b[1;32m      3\u001b[0m     \u001b[0;32mreturn\u001b[0m \u001b[0mmath\u001b[0m\u001b[0;34m.\u001b[0m\u001b[0mcomb\u001b[0m\u001b[0;34m(\u001b[0m\u001b[0mn\u001b[0m\u001b[0;34m,\u001b[0m \u001b[0mr\u001b[0m\u001b[0;34m)\u001b[0m\u001b[0;34m\u001b[0m\u001b[0;34m\u001b[0m\u001b[0m\n\u001b[0;32m----> 4\u001b[0;31m \u001b[0mn\u001b[0m \u001b[0;34m=\u001b[0m \u001b[0mint\u001b[0m\u001b[0;34m(\u001b[0m\u001b[0minput\u001b[0m\u001b[0;34m(\u001b[0m\u001b[0;34m)\u001b[0m\u001b[0;34m.\u001b[0m\u001b[0msplit\u001b[0m\u001b[0;34m(\u001b[0m\u001b[0;34m'='\u001b[0m\u001b[0;34m)\u001b[0m\u001b[0;34m[\u001b[0m\u001b[0;36m1\u001b[0m\u001b[0;34m]\u001b[0m\u001b[0;34m)\u001b[0m\u001b[0;34m\u001b[0m\u001b[0;34m\u001b[0m\u001b[0m\n\u001b[0m\u001b[1;32m      5\u001b[0m \u001b[0mm\u001b[0m \u001b[0;34m=\u001b[0m \u001b[0mint\u001b[0m\u001b[0;34m(\u001b[0m\u001b[0minput\u001b[0m\u001b[0;34m(\u001b[0m\u001b[0;34m)\u001b[0m\u001b[0;34m.\u001b[0m\u001b[0msplit\u001b[0m\u001b[0;34m(\u001b[0m\u001b[0;34m'='\u001b[0m\u001b[0;34m)\u001b[0m\u001b[0;34m[\u001b[0m\u001b[0;36m1\u001b[0m\u001b[0;34m]\u001b[0m\u001b[0;34m)\u001b[0m\u001b[0;34m\u001b[0m\u001b[0;34m\u001b[0m\u001b[0m\n\u001b[1;32m      6\u001b[0m \u001b[0mprint\u001b[0m\u001b[0;34m(\u001b[0m\u001b[0mcomb\u001b[0m\u001b[0;34m(\u001b[0m\u001b[0mn\u001b[0m \u001b[0;34m-\u001b[0m \u001b[0mm\u001b[0m \u001b[0;34m+\u001b[0m \u001b[0;36m1\u001b[0m\u001b[0;34m,\u001b[0m \u001b[0mm\u001b[0m\u001b[0;34m)\u001b[0m\u001b[0;34m)\u001b[0m\u001b[0;34m\u001b[0m\u001b[0;34m\u001b[0m\u001b[0m\n",
            "\u001b[0;31mIndexError\u001b[0m: list index out of range"
          ]
        }
      ]
    },
    {
      "cell_type": "markdown",
      "source": [
        "Q16"
      ],
      "metadata": {
        "id": "aCP4U3bGSKnW"
      }
    },
    {
      "cell_type": "code",
      "source": [
        "score_a = score_b = 0\n",
        "beats = {'Stone': 'Scissor', 'Paper': 'Stone', 'Scissor': 'Paper'}\n",
        "while score_a < 5 and score_b < 5:\n",
        "    a = input()\n",
        "    b = input()\n",
        "    if a == b:\n",
        "        print(\"DRAW\")\n",
        "    elif beats[a] == b:\n",
        "        print(\"Player A wins\")\n",
        "        score_a += 1\n",
        "    else:\n",
        "        print(\"Player B wins\")\n",
        "        score_b += 1\n"
      ],
      "metadata": {
        "id": "2n_15c4KSLvb",
        "colab": {
          "base_uri": "https://localhost:8080/",
          "height": 408
        },
        "outputId": "65d10c48-0189-4ede-df5a-e554c276d30d"
      },
      "execution_count": 16,
      "outputs": [
        {
          "output_type": "stream",
          "name": "stdout",
          "text": [
            "Stone\n",
            "Stone\n",
            "DRAW\n"
          ]
        },
        {
          "output_type": "error",
          "ename": "KeyboardInterrupt",
          "evalue": "Interrupted by user",
          "traceback": [
            "\u001b[0;31m---------------------------------------------------------------------------\u001b[0m",
            "\u001b[0;31mKeyboardInterrupt\u001b[0m                         Traceback (most recent call last)",
            "\u001b[0;32m<ipython-input-16-882dbbd60483>\u001b[0m in \u001b[0;36m<cell line: 0>\u001b[0;34m()\u001b[0m\n\u001b[1;32m      2\u001b[0m \u001b[0mbeats\u001b[0m \u001b[0;34m=\u001b[0m \u001b[0;34m{\u001b[0m\u001b[0;34m'Stone'\u001b[0m\u001b[0;34m:\u001b[0m \u001b[0;34m'Scissor'\u001b[0m\u001b[0;34m,\u001b[0m \u001b[0;34m'Paper'\u001b[0m\u001b[0;34m:\u001b[0m \u001b[0;34m'Stone'\u001b[0m\u001b[0;34m,\u001b[0m \u001b[0;34m'Scissor'\u001b[0m\u001b[0;34m:\u001b[0m \u001b[0;34m'Paper'\u001b[0m\u001b[0;34m}\u001b[0m\u001b[0;34m\u001b[0m\u001b[0;34m\u001b[0m\u001b[0m\n\u001b[1;32m      3\u001b[0m \u001b[0;32mwhile\u001b[0m \u001b[0mscore_a\u001b[0m \u001b[0;34m<\u001b[0m \u001b[0;36m5\u001b[0m \u001b[0;32mand\u001b[0m \u001b[0mscore_b\u001b[0m \u001b[0;34m<\u001b[0m \u001b[0;36m5\u001b[0m\u001b[0;34m:\u001b[0m\u001b[0;34m\u001b[0m\u001b[0;34m\u001b[0m\u001b[0m\n\u001b[0;32m----> 4\u001b[0;31m     \u001b[0ma\u001b[0m \u001b[0;34m=\u001b[0m \u001b[0minput\u001b[0m\u001b[0;34m(\u001b[0m\u001b[0;34m)\u001b[0m\u001b[0;34m\u001b[0m\u001b[0;34m\u001b[0m\u001b[0m\n\u001b[0m\u001b[1;32m      5\u001b[0m     \u001b[0mb\u001b[0m \u001b[0;34m=\u001b[0m \u001b[0minput\u001b[0m\u001b[0;34m(\u001b[0m\u001b[0;34m)\u001b[0m\u001b[0;34m\u001b[0m\u001b[0;34m\u001b[0m\u001b[0m\n\u001b[1;32m      6\u001b[0m     \u001b[0;32mif\u001b[0m \u001b[0ma\u001b[0m \u001b[0;34m==\u001b[0m \u001b[0mb\u001b[0m\u001b[0;34m:\u001b[0m\u001b[0;34m\u001b[0m\u001b[0;34m\u001b[0m\u001b[0m\n",
            "\u001b[0;32m/usr/local/lib/python3.11/dist-packages/ipykernel/kernelbase.py\u001b[0m in \u001b[0;36mraw_input\u001b[0;34m(self, prompt)\u001b[0m\n\u001b[1;32m   1175\u001b[0m                 \u001b[0;34m\"raw_input was called, but this frontend does not support input requests.\"\u001b[0m\u001b[0;34m\u001b[0m\u001b[0;34m\u001b[0m\u001b[0m\n\u001b[1;32m   1176\u001b[0m             )\n\u001b[0;32m-> 1177\u001b[0;31m         return self._input_request(\n\u001b[0m\u001b[1;32m   1178\u001b[0m             \u001b[0mstr\u001b[0m\u001b[0;34m(\u001b[0m\u001b[0mprompt\u001b[0m\u001b[0;34m)\u001b[0m\u001b[0;34m,\u001b[0m\u001b[0;34m\u001b[0m\u001b[0;34m\u001b[0m\u001b[0m\n\u001b[1;32m   1179\u001b[0m             \u001b[0mself\u001b[0m\u001b[0;34m.\u001b[0m\u001b[0m_parent_ident\u001b[0m\u001b[0;34m[\u001b[0m\u001b[0;34m\"shell\"\u001b[0m\u001b[0;34m]\u001b[0m\u001b[0;34m,\u001b[0m\u001b[0;34m\u001b[0m\u001b[0;34m\u001b[0m\u001b[0m\n",
            "\u001b[0;32m/usr/local/lib/python3.11/dist-packages/ipykernel/kernelbase.py\u001b[0m in \u001b[0;36m_input_request\u001b[0;34m(self, prompt, ident, parent, password)\u001b[0m\n\u001b[1;32m   1217\u001b[0m             \u001b[0;32mexcept\u001b[0m \u001b[0mKeyboardInterrupt\u001b[0m\u001b[0;34m:\u001b[0m\u001b[0;34m\u001b[0m\u001b[0;34m\u001b[0m\u001b[0m\n\u001b[1;32m   1218\u001b[0m                 \u001b[0;31m# re-raise KeyboardInterrupt, to truncate traceback\u001b[0m\u001b[0;34m\u001b[0m\u001b[0;34m\u001b[0m\u001b[0m\n\u001b[0;32m-> 1219\u001b[0;31m                 \u001b[0;32mraise\u001b[0m \u001b[0mKeyboardInterrupt\u001b[0m\u001b[0;34m(\u001b[0m\u001b[0;34m\"Interrupted by user\"\u001b[0m\u001b[0;34m)\u001b[0m \u001b[0;32mfrom\u001b[0m \u001b[0;32mNone\u001b[0m\u001b[0;34m\u001b[0m\u001b[0;34m\u001b[0m\u001b[0m\n\u001b[0m\u001b[1;32m   1220\u001b[0m             \u001b[0;32mexcept\u001b[0m \u001b[0mException\u001b[0m\u001b[0;34m:\u001b[0m\u001b[0;34m\u001b[0m\u001b[0;34m\u001b[0m\u001b[0m\n\u001b[1;32m   1221\u001b[0m                 \u001b[0mself\u001b[0m\u001b[0;34m.\u001b[0m\u001b[0mlog\u001b[0m\u001b[0;34m.\u001b[0m\u001b[0mwarning\u001b[0m\u001b[0;34m(\u001b[0m\u001b[0;34m\"Invalid Message:\"\u001b[0m\u001b[0;34m,\u001b[0m \u001b[0mexc_info\u001b[0m\u001b[0;34m=\u001b[0m\u001b[0;32mTrue\u001b[0m\u001b[0;34m)\u001b[0m\u001b[0;34m\u001b[0m\u001b[0;34m\u001b[0m\u001b[0m\n",
            "\u001b[0;31mKeyboardInterrupt\u001b[0m: Interrupted by user"
          ]
        }
      ]
    },
    {
      "cell_type": "markdown",
      "source": [
        "Q17"
      ],
      "metadata": {
        "id": "mLV4xTAlSMbJ"
      }
    },
    {
      "cell_type": "code",
      "source": [
        "import re\n",
        "email = input()\n",
        "if email.count('@') == 1 and re.fullmatch(\"[a-z0-9._]+@[a-z0-9._]+\", email):\n",
        "    print(\"Valid\")\n",
        "else:\n",
        "    print(\"Invalid\")\n"
      ],
      "metadata": {
        "id": "Y3xxxKBFSNzE",
        "colab": {
          "base_uri": "https://localhost:8080/"
        },
        "outputId": "4a931d90-30d7-489e-c7b1-b447f3934ebc"
      },
      "execution_count": 17,
      "outputs": [
        {
          "output_type": "stream",
          "name": "stdout",
          "text": [
            "hemesh@tiger.gmail.com\n",
            "Valid\n"
          ]
        }
      ]
    },
    {
      "cell_type": "markdown",
      "source": [
        "Q18"
      ],
      "metadata": {
        "id": "f0hznAP8SOKU"
      }
    },
    {
      "cell_type": "code",
      "source": [
        "n = int(input())\n",
        "val = 1\n",
        "for i in range(1, n + 1):\n",
        "    for j in range(i):\n",
        "        print(val, end=\"\")\n",
        "        val += 1\n",
        "        if j != i - 1:\n",
        "            print(\" * \", end=\"\")\n",
        "    print()"
      ],
      "metadata": {
        "id": "4ZBNFKg8SPRu",
        "colab": {
          "base_uri": "https://localhost:8080/"
        },
        "outputId": "fb98f3de-ce54-4d3a-b1c7-045567b7413d"
      },
      "execution_count": 18,
      "outputs": [
        {
          "output_type": "stream",
          "name": "stdout",
          "text": [
            "4\n",
            "1\n",
            "2 * 3\n",
            "4 * 5 * 6\n",
            "7 * 8 * 9 * 10\n"
          ]
        }
      ]
    },
    {
      "cell_type": "code",
      "source": [
        "n = int(input())\n",
        "for i in range(n):\n",
        "    print(\" \" * (n - i - 1), end=\"\")\n",
        "    print(\"* \" * (i + 1))\n",
        "for i in range(n - 2, -1, -1):\n",
        "    print(\" \" * (n - i - 1), end=\"\")\n",
        "    print(\"* \" * (i + 1))\n"
      ],
      "metadata": {
        "colab": {
          "base_uri": "https://localhost:8080/"
        },
        "id": "OtwbfDKQk02c",
        "outputId": "ca516070-cab5-494e-ad9e-a3765a475532"
      },
      "execution_count": 19,
      "outputs": [
        {
          "output_type": "stream",
          "name": "stdout",
          "text": [
            "4\n",
            "   * \n",
            "  * * \n",
            " * * * \n",
            "* * * * \n",
            " * * * \n",
            "  * * \n",
            "   * \n"
          ]
        }
      ]
    },
    {
      "cell_type": "code",
      "source": [
        "n = int(input())\n",
        "val = 1\n",
        "lst = []\n",
        "for i in range(1, n + 1):\n",
        "    row = []\n",
        "    for j in range(i):\n",
        "        row.append(str(val))\n",
        "        val += 1\n",
        "    lst.append(\" * \".join(row))\n",
        "for row in lst:\n",
        "    print(row)\n",
        "for row in reversed(lst[:-1]):\n",
        "    print(row)\n"
      ],
      "metadata": {
        "colab": {
          "base_uri": "https://localhost:8080/"
        },
        "id": "Yp3EAYUxk3EY",
        "outputId": "3c45664c-66ff-4cdc-cce0-0768a00c1520"
      },
      "execution_count": 20,
      "outputs": [
        {
          "output_type": "stream",
          "name": "stdout",
          "text": [
            "4\n",
            "1\n",
            "2 * 3\n",
            "4 * 5 * 6\n",
            "7 * 8 * 9 * 10\n",
            "4 * 5 * 6\n",
            "2 * 3\n",
            "1\n"
          ]
        }
      ]
    },
    {
      "cell_type": "code",
      "source": [
        "n = int(input())\n",
        "for i in range(n):\n",
        "    if i == 0:\n",
        "        print(\" \" + \"*\" * 3)\n",
        "    elif i == n // 2:\n",
        "        print(\"*\" + \" \" * 1 + \"*\" * 3)\n",
        "    elif i == n - 1:\n",
        "        print(\" \" + \"*\" + \" \" + \"*\" * 2)\n",
        "    elif i >= n // 2:\n",
        "        print(\"*\" + \" \" * (n - 3) + \"*\")\n",
        "    else:\n",
        "        print(\"*\")\n"
      ],
      "metadata": {
        "colab": {
          "base_uri": "https://localhost:8080/"
        },
        "id": "Irh3-Elyk4Yp",
        "outputId": "25294de6-0159-49b4-8f5f-3648784cac16"
      },
      "execution_count": 21,
      "outputs": [
        {
          "output_type": "stream",
          "name": "stdout",
          "text": [
            "4\n",
            " ***\n",
            "*\n",
            "* ***\n",
            " * **\n"
          ]
        }
      ]
    },
    {
      "cell_type": "code",
      "source": [
        "n = int(input())\n",
        "for i in range(n):\n",
        "    for j in range(n):\n",
        "        if i == 0 or i == n - 1 or j == n // 2:\n",
        "            print(\"1\", end=\" \")\n",
        "        else:\n",
        "            print(\"0\", end=\" \")\n",
        "    print()\n"
      ],
      "metadata": {
        "colab": {
          "base_uri": "https://localhost:8080/"
        },
        "id": "CEypPKNek5k_",
        "outputId": "b43c486a-1b01-4d90-bd10-aaf69d132530"
      },
      "execution_count": 22,
      "outputs": [
        {
          "output_type": "stream",
          "name": "stdout",
          "text": [
            "4\n",
            "1 1 1 1 \n",
            "0 0 1 0 \n",
            "0 0 1 0 \n",
            "1 1 1 1 \n"
          ]
        }
      ]
    },
    {
      "cell_type": "markdown",
      "source": [
        "Q19"
      ],
      "metadata": {
        "id": "0yYJi7_tSQAv"
      }
    },
    {
      "cell_type": "code",
      "source": [
        "mode = int(input())\n",
        "s = input().strip().strip(\"'\")\n",
        "k = int(input())\n",
        "for _ in range(k):\n",
        "    if mode == 1:\n",
        "        s = s[1:] + s[0]\n",
        "    else:\n",
        "        s = s[-1] + s[:-1]\n",
        "    print(s)"
      ],
      "metadata": {
        "id": "pzczEGChSRgL",
        "colab": {
          "base_uri": "https://localhost:8080/"
        },
        "outputId": "73b82c2b-28ec-4b6d-cbec-67f1ede33c71"
      },
      "execution_count": 23,
      "outputs": [
        {
          "output_type": "stream",
          "name": "stdout",
          "text": [
            "1\n",
            "happy\n",
            "2\n",
            "appyh\n",
            "ppyha\n"
          ]
        }
      ]
    },
    {
      "cell_type": "markdown",
      "source": [
        "Q20"
      ],
      "metadata": {
        "id": "BnVoN1FcSR-o"
      }
    },
    {
      "cell_type": "code",
      "source": [
        "ideal = {\"Sugar level\":15, \"Blood pressure\":32, \"Heartbeat rate\":71, \"weight\":65, \"fat percentage\":10}\n",
        "user = {}\n",
        "for key in ideal:\n",
        "    user[key] = int(input(f\"{key}: \"))\n",
        "print(user)\n",
        "diff = {k: user[k] - ideal[k] for k in ideal}\n",
        "print(diff)\n",
        "for k, v in diff.items():\n",
        "    if v < 0:\n",
        "        print(f\"{k} {v}\\nThe {k.lower()} is {abs(v)} less than the ideal value\\n\")\n",
        "    elif v > 0:\n",
        "        print(f\"{k} {v}\\nThe {k.lower()} is {v} more than the ideal value\\n\")\n"
      ],
      "metadata": {
        "id": "cYYk6ASgSTF0",
        "colab": {
          "base_uri": "https://localhost:8080/"
        },
        "outputId": "b4895201-bbf7-400f-d176-f8d4be300d97"
      },
      "execution_count": 24,
      "outputs": [
        {
          "output_type": "stream",
          "name": "stdout",
          "text": [
            "Sugar level: 15\n",
            "Blood pressure: 32\n",
            "Heartbeat rate: 71\n",
            "weight: 65\n",
            "fat percentage: 10\n",
            "{'Sugar level': 15, 'Blood pressure': 32, 'Heartbeat rate': 71, 'weight': 65, 'fat percentage': 10}\n",
            "{'Sugar level': 0, 'Blood pressure': 0, 'Heartbeat rate': 0, 'weight': 0, 'fat percentage': 0}\n"
          ]
        }
      ]
    },
    {
      "cell_type": "markdown",
      "source": [
        "Q21"
      ],
      "metadata": {
        "id": "DfPV3UXFSTsj"
      }
    },
    {
      "cell_type": "code",
      "source": [
        "n = input()\n",
        "power = len(n)\n",
        "s = sum(int(d)**power for d in n)\n",
        "print(\"Armstrong number\" if s == int(n) else \"Not an Armstrong number\")\n"
      ],
      "metadata": {
        "id": "vePybFR2SUmC",
        "colab": {
          "base_uri": "https://localhost:8080/"
        },
        "outputId": "18da763c-ab99-4555-e3da-beb33c2da6c9"
      },
      "execution_count": 25,
      "outputs": [
        {
          "output_type": "stream",
          "name": "stdout",
          "text": [
            "1634\n",
            "Armstrong number\n"
          ]
        }
      ]
    },
    {
      "cell_type": "markdown",
      "source": [
        "Q22"
      ],
      "metadata": {
        "id": "RNl6aGBrkklj"
      }
    },
    {
      "cell_type": "code",
      "source": [
        "n = int(input())\n",
        "binary = ''\n",
        "while n > 0:\n",
        "    binary = str(n % 2) + binary\n",
        "    n //= 2\n",
        "print(binary)"
      ],
      "metadata": {
        "colab": {
          "base_uri": "https://localhost:8080/"
        },
        "id": "u5Rw-JbXkl7I",
        "outputId": "1ba1cc1b-0ab0-406d-acb9-5769d94c2c97"
      },
      "execution_count": 26,
      "outputs": [
        {
          "output_type": "stream",
          "name": "stdout",
          "text": [
            "12\n",
            "1100\n"
          ]
        }
      ]
    },
    {
      "cell_type": "markdown",
      "source": [
        "Q23"
      ],
      "metadata": {
        "id": "5QiS-ruckmQf"
      }
    },
    {
      "cell_type": "code",
      "source": [
        "n = int(input())\n",
        "div_sum = sum(i for i in range(1, n) if n % i == 0)\n",
        "print(\"Perfect number\" if div_sum == n else \"Not a perfect number\")"
      ],
      "metadata": {
        "colab": {
          "base_uri": "https://localhost:8080/"
        },
        "id": "S9o--s4vkngC",
        "outputId": "6946d5dd-c03e-4aae-8163-e68c178e1f60"
      },
      "execution_count": 27,
      "outputs": [
        {
          "output_type": "stream",
          "name": "stdout",
          "text": [
            "28\n",
            "Perfect number\n"
          ]
        }
      ]
    },
    {
      "cell_type": "code",
      "source": [],
      "metadata": {
        "id": "qjirsVfxmn3z"
      },
      "execution_count": null,
      "outputs": []
    }
  ]
}