{
  "nbformat": 4,
  "nbformat_minor": 0,
  "metadata": {
    "colab": {
      "provenance": []
    },
    "kernelspec": {
      "name": "python3",
      "display_name": "Python 3"
    },
    "language_info": {
      "name": "python"
    }
  },
  "cells": [
    {
      "cell_type": "code",
      "execution_count": 1,
      "metadata": {
        "colab": {
          "base_uri": "https://localhost:8080/"
        },
        "id": "6LvYkDRYdsAf",
        "outputId": "5ac255b1-d43b-4240-fcc0-8abb89bc4010"
      },
      "outputs": [
        {
          "output_type": "stream",
          "name": "stdout",
          "text": [
            "Requirement already satisfied: pandas in /usr/local/lib/python3.11/dist-packages (2.2.2)\n",
            "Requirement already satisfied: openpyxl in /usr/local/lib/python3.11/dist-packages (3.1.5)\n",
            "Requirement already satisfied: numpy>=1.23.2 in /usr/local/lib/python3.11/dist-packages (from pandas) (2.0.2)\n",
            "Requirement already satisfied: python-dateutil>=2.8.2 in /usr/local/lib/python3.11/dist-packages (from pandas) (2.9.0.post0)\n",
            "Requirement already satisfied: pytz>=2020.1 in /usr/local/lib/python3.11/dist-packages (from pandas) (2025.2)\n",
            "Requirement already satisfied: tzdata>=2022.7 in /usr/local/lib/python3.11/dist-packages (from pandas) (2025.2)\n",
            "Requirement already satisfied: et-xmlfile in /usr/local/lib/python3.11/dist-packages (from openpyxl) (2.0.0)\n",
            "Requirement already satisfied: six>=1.5 in /usr/local/lib/python3.11/dist-packages (from python-dateutil>=2.8.2->pandas) (1.17.0)\n"
          ]
        }
      ],
      "source": [
        "pip install pandas openpyxl"
      ]
    },
    {
      "cell_type": "code",
      "source": [
        "import pandas as pd\n",
        "from datetime import datetime"
      ],
      "metadata": {
        "id": "d_UBID_MevBI"
      },
      "execution_count": 2,
      "outputs": []
    },
    {
      "cell_type": "code",
      "source": [
        "df = pd.read_excel(\"DS Internship - EDA - Data.xlsx\")\n"
      ],
      "metadata": {
        "id": "JzWJklEyexX7"
      },
      "execution_count": 8,
      "outputs": []
    },
    {
      "cell_type": "code",
      "source": [
        "# Convert relevant columns\n",
        "df['Store Modification Date'] = pd.to_datetime(df['Store Modification Date'], errors='coerce')"
      ],
      "metadata": {
        "id": "_dcJ3fQofAns"
      },
      "execution_count": 9,
      "outputs": []
    },
    {
      "cell_type": "code",
      "source": [
        "# Question 1:\n",
        "q1 = df.groupby('Year')['Sales'].sum().reset_index()\n",
        "print(\"Total Sales by Year:\\n\", q1)"
      ],
      "metadata": {
        "colab": {
          "base_uri": "https://localhost:8080/"
        },
        "id": "GbgDC90sfBAL",
        "outputId": "47be7cc8-b8aa-4245-da2f-d8915bef1a33"
      },
      "execution_count": 13,
      "outputs": [
        {
          "output_type": "stream",
          "name": "stdout",
          "text": [
            "Total Sales by Year:\n",
            "    Year         Sales\n",
            "0  2015  1.627585e+09\n",
            "1  2016  1.843939e+09\n",
            "2  2017  1.651322e+09\n",
            "3  2018  1.492340e+09\n",
            "4  2019  1.471963e+09\n",
            "5  2020  6.510899e+07\n"
          ]
        }
      ]
    },
    {
      "cell_type": "code",
      "source": [
        "# Question 2:\n",
        "q2 = df[df['Year'] == 1991]['Store'].nunique()\n",
        "print(\"\\nNumber of stores opened in 1991:\", q2)"
      ],
      "metadata": {
        "colab": {
          "base_uri": "https://localhost:8080/"
        },
        "id": "CiwJP69tfn2z",
        "outputId": "613f2a69-c699-4755-83a5-df711a75a075"
      },
      "execution_count": 14,
      "outputs": [
        {
          "output_type": "stream",
          "name": "stdout",
          "text": [
            "\n",
            "Number of stores opened in 1991: 0\n"
          ]
        }
      ]
    },
    {
      "cell_type": "code",
      "source": [
        "# Question 3:\n",
        "q3 = df[df['Store Modification'].notnull()]['Store'].nunique()\n",
        "print(\"\\nNumber of remodeled stores:\", q3)"
      ],
      "metadata": {
        "colab": {
          "base_uri": "https://localhost:8080/"
        },
        "id": "Tw7KmNvifpWT",
        "outputId": "246ca003-cef7-4628-9606-a6a37e2e848e"
      },
      "execution_count": 15,
      "outputs": [
        {
          "output_type": "stream",
          "name": "stdout",
          "text": [
            "\n",
            "Number of remodeled stores: 830\n"
          ]
        }
      ]
    },
    {
      "cell_type": "code",
      "source": [
        "# Question 4:\n",
        "correlation = df['Sales'].corr(df['Total Sq Ft'])\n",
        "print(correlation)"
      ],
      "metadata": {
        "colab": {
          "base_uri": "https://localhost:8080/"
        },
        "id": "2tguzJ-1ftWn",
        "outputId": "be4fd449-1dc1-4c7f-b852-661832346f36"
      },
      "execution_count": 18,
      "outputs": [
        {
          "output_type": "stream",
          "name": "stdout",
          "text": [
            "0.13922544019446748\n"
          ]
        }
      ]
    },
    {
      "cell_type": "code",
      "source": [
        "# Question 5:\n",
        "q5 = df.groupby('Super Division')['Sales'].sum().reset_index().sort_values(by='Sales', ascending=False)\n",
        "most_profitable = q5.iloc[0]\n",
        "print(most_profitable['Super Division'])"
      ],
      "metadata": {
        "colab": {
          "base_uri": "https://localhost:8080/"
        },
        "id": "4K2W3OrvfvTb",
        "outputId": "9192ff91-696f-4caa-e396-d56bf828b4b3"
      },
      "execution_count": 19,
      "outputs": [
        {
          "output_type": "stream",
          "name": "stdout",
          "text": [
            "GIRLS\n"
          ]
        }
      ]
    },
    {
      "cell_type": "code",
      "source": [
        "# Question 6:\n",
        "q6 = df[df['Store Close'].isnull()]['Store'].nunique()\n",
        "print(q6)"
      ],
      "metadata": {
        "colab": {
          "base_uri": "https://localhost:8080/"
        },
        "id": "XkFQ0OXofzNz",
        "outputId": "158bdcf7-eea9-4233-b164-2661ae39fcac"
      },
      "execution_count": 20,
      "outputs": [
        {
          "output_type": "stream",
          "name": "stdout",
          "text": [
            "0\n"
          ]
        }
      ]
    },
    {
      "cell_type": "code",
      "source": [
        "# Question 7:\n",
        "q7 = df.groupby('Super Division')['Total Sq Ft'].mean().reset_index().sort_values(by='Total Sq Ft', ascending=False)\n",
        "largest_avg_sqft = q7.iloc[0]\n",
        "print(largest_avg_sqft['Super Division'])"
      ],
      "metadata": {
        "colab": {
          "base_uri": "https://localhost:8080/"
        },
        "id": "07JPixk6gBVb",
        "outputId": "c8a3dc79-1a62-402c-d1ae-a9540ef68134"
      },
      "execution_count": 21,
      "outputs": [
        {
          "output_type": "stream",
          "name": "stdout",
          "text": [
            "KIDS\n"
          ]
        }
      ]
    },
    {
      "cell_type": "markdown",
      "source": [
        "ADVANCED INSIGHTAS"
      ],
      "metadata": {
        "id": "8_kROKMOgGL9"
      }
    },
    {
      "cell_type": "code",
      "source": [
        "# Question 8:\n",
        "active_stores = df[df['Store Close'].isnull()]\n",
        "state_summary = active_stores.groupby('State').agg(\n",
        "    avg_sales=('Sales', 'mean'),\n",
        "    avg_sqft=('Total Sq Ft', 'mean'),\n",
        "    store_count=('Store', 'nunique')\n",
        ").reset_index()\n",
        "q8 = state_summary.sort_values(by=['avg_sales', 'avg_sqft'], ascending=False).head(3)\n",
        "print(q8[['State', 'avg_sales', 'avg_sqft']])"
      ],
      "metadata": {
        "colab": {
          "base_uri": "https://localhost:8080/"
        },
        "id": "ji0eqyqBgE88",
        "outputId": "0d3f7d74-ed11-46d7-e36c-805cd0bd6692"
      },
      "execution_count": 22,
      "outputs": [
        {
          "output_type": "stream",
          "name": "stdout",
          "text": [
            "Empty DataFrame\n",
            "Columns: [State, avg_sales, avg_sqft]\n",
            "Index: []\n"
          ]
        }
      ]
    },
    {
      "cell_type": "code",
      "source": [
        "# Question 9:\n",
        "q9 = df.groupby('Month')['Sales'].mean().reset_index().sort_values(by='Sales', ascending=False)\n",
        "print(q9)"
      ],
      "metadata": {
        "colab": {
          "base_uri": "https://localhost:8080/"
        },
        "id": "L8va6N06gOcc",
        "outputId": "1e15db89-dc85-4c94-ef42-6dbd2cdfc143"
      },
      "execution_count": 23,
      "outputs": [
        {
          "output_type": "stream",
          "name": "stdout",
          "text": [
            "    Month         Sales\n",
            "11     12  63392.905721\n",
            "7       8  57362.934328\n",
            "2       3  48179.098097\n",
            "10     11  47063.812595\n",
            "6       7  45525.699765\n",
            "3       4  43248.803190\n",
            "5       6  42861.734267\n",
            "4       5  41712.454066\n",
            "1       2  40888.945072\n",
            "8       9  39106.330348\n",
            "9      10  38728.562158\n",
            "0       1  31716.908792\n"
          ]
        }
      ]
    },
    {
      "cell_type": "code",
      "source": [
        "# Question 10\n",
        "closure_by_type = df[df['Store Close'].notnull()].groupby('Outlet Type')['Store'].nunique().reset_index()\n",
        "closure_by_type.columns = ['Outlet Type', 'Closed Stores']\n",
        "print( closure_by_type)"
      ],
      "metadata": {
        "colab": {
          "base_uri": "https://localhost:8080/"
        },
        "id": "dqZaUaSFgToH",
        "outputId": "b950921f-0280-47f8-9e1b-56efd8744d73"
      },
      "execution_count": 24,
      "outputs": [
        {
          "output_type": "stream",
          "name": "stdout",
          "text": [
            "  Outlet Type  Closed Stores\n",
            "0        Mall            383\n",
            "1      Outlet            110\n",
            "2       Strip            337\n"
          ]
        }
      ]
    },
    {
      "cell_type": "code",
      "source": [],
      "metadata": {
        "id": "DdPNT7OMgW6X"
      },
      "execution_count": null,
      "outputs": []
    }
  ]
}