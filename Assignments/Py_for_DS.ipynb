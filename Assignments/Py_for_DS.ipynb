{
  "nbformat": 4,
  "nbformat_minor": 0,
  "metadata": {
    "colab": {
      "provenance": []
    },
    "kernelspec": {
      "name": "python3",
      "display_name": "Python 3"
    },
    "language_info": {
      "name": "python"
    }
  },
  "cells": [
    {
      "cell_type": "markdown",
      "source": [
        "Question 1-6(SALES DATA)"
      ],
      "metadata": {
        "id": "Kp6nUbIZXmlx"
      }
    },
    {
      "cell_type": "code",
      "source": [
        "import pandas as pd\n",
        "from datetime import datetime"
      ],
      "metadata": {
        "id": "o7sFECV_X07v"
      },
      "execution_count": 1,
      "outputs": []
    },
    {
      "cell_type": "code",
      "execution_count": 7,
      "metadata": {
        "id": "Ys5pMAQDXKFk"
      },
      "outputs": [],
      "source": [
        "sales_df = pd.read_excel('SalesData.xlsx')"
      ]
    },
    {
      "cell_type": "code",
      "source": [
        "# Question 1\n",
        "q1 = sales_df.groupby('Item')['Sale_amt'].min().reset_index()\n",
        "print(q1)"
      ],
      "metadata": {
        "colab": {
          "base_uri": "https://localhost:8080/"
        },
        "id": "UdbHZno8X6zf",
        "outputId": "1f50bd18-cf3f-435d-e4e8-631a28c97fe5"
      },
      "execution_count": 11,
      "outputs": [
        {
          "output_type": "stream",
          "name": "stdout",
          "text": [
            "           Item  Sale_amt\n",
            "0    Cell Phone    3375.0\n",
            "1          Desk     250.0\n",
            "2  Home Theater    2000.0\n",
            "3    Television    8386.0\n",
            "4   Video Games     936.0\n"
          ]
        }
      ]
    },
    {
      "cell_type": "code",
      "source": [
        "# Question 2\n",
        "sales_df['OrderDate'] = pd.to_datetime(sales_df['OrderDate'])\n",
        "sales_df['Year'] = sales_df['OrderDate'].dt.year\n",
        "q2 = sales_df.groupby(['Year', 'Region'])['Sale_amt'].sum().reset_index()\n",
        "print(q2)"
      ],
      "metadata": {
        "colab": {
          "base_uri": "https://localhost:8080/"
        },
        "id": "TEhgzntrYUk3",
        "outputId": "537e84af-7552-41d5-b1a2-2e87a259b508"
      },
      "execution_count": 12,
      "outputs": [
        {
          "output_type": "stream",
          "name": "stdout",
          "text": [
            "   Year   Region  Sale_amt\n",
            "0  2018  Central  479825.0\n",
            "1  2018     East  293780.0\n",
            "2  2018     West  105424.0\n",
            "3  2019  Central  349944.5\n",
            "4  2019     East   27227.0\n",
            "5  2019     West   49475.0\n"
          ]
        }
      ]
    },
    {
      "cell_type": "code",
      "source": [
        "# Question 3\n",
        "reference_date = datetime.now()\n",
        "sales_df['days_diff'] = (reference_date - sales_df['OrderDate']).dt.days\n",
        "print(sales_df[['OrderDate', 'days_diff']].head())"
      ],
      "metadata": {
        "colab": {
          "base_uri": "https://localhost:8080/"
        },
        "id": "MADupTWSY11X",
        "outputId": "9ac28806-f111-4966-adbe-eceb65696828"
      },
      "execution_count": 14,
      "outputs": [
        {
          "output_type": "stream",
          "name": "stdout",
          "text": [
            "   OrderDate  days_diff\n",
            "0 2018-01-06       2693\n",
            "1 2018-01-23       2676\n",
            "2 2018-02-09       2659\n",
            "3 2018-02-26       2642\n",
            "4 2018-03-15       2625\n"
          ]
        }
      ]
    },
    {
      "cell_type": "code",
      "source": [
        "# Question 4\n",
        "q4 = sales_df.groupby('Manager')['SalesMan'].unique().reset_index()\n",
        "q4.columns = ['Manager', 'list_of_salesmen']\n",
        "print(q4)"
      ],
      "metadata": {
        "colab": {
          "base_uri": "https://localhost:8080/"
        },
        "id": "KbteBsAuY6ZS",
        "outputId": "98dcaf50-645a-4449-db5a-65eff3d2d914"
      },
      "execution_count": 15,
      "outputs": [
        {
          "output_type": "stream",
          "name": "stdout",
          "text": [
            "   Manager            list_of_salesmen\n",
            "0  Douglas      [Michael, Karen, John]\n",
            "1  Hermann       [Shelli, Luis, Sigal]\n",
            "2   Martha  [Alexander, Steven, Diana]\n",
            "3  Timothy            [David, Stephen]\n"
          ]
        }
      ]
    },
    {
      "cell_type": "code",
      "source": [
        "# Question 5\n",
        "q5 = sales_df.groupby('Region').agg(\n",
        "    salesmen_count=('SalesMan', pd.Series.nunique),\n",
        "    total_sales=('Sale_amt', 'sum')\n",
        ").reset_index()\n",
        "print(q5)"
      ],
      "metadata": {
        "colab": {
          "base_uri": "https://localhost:8080/"
        },
        "id": "q-h2TbVFZCuj",
        "outputId": "e37dec9e-aad9-4702-9ffc-13dfcc2071d2"
      },
      "execution_count": 16,
      "outputs": [
        {
          "output_type": "stream",
          "name": "stdout",
          "text": [
            "    Region  salesmen_count  total_sales\n",
            "0  Central               6     829769.5\n",
            "1     East               3     321007.0\n",
            "2     West               2     154899.0\n"
          ]
        }
      ]
    },
    {
      "cell_type": "code",
      "source": [
        "# Question 6\n",
        "total_sales = sales_df['Sale_amt'].sum()\n",
        "q6 = sales_df.groupby('Manager')['Sale_amt'].sum().reset_index()\n",
        "q6['percent_sales'] = (q6['Sale_amt'] / total_sales) * 100\n",
        "q6 = q6[['Manager', 'percent_sales']]\n",
        "print(q6)"
      ],
      "metadata": {
        "colab": {
          "base_uri": "https://localhost:8080/"
        },
        "id": "SNo66G9UZGGv",
        "outputId": "9439bce0-0a94-455e-a184-77e9c082dd4b"
      },
      "execution_count": 17,
      "outputs": [
        {
          "output_type": "stream",
          "name": "stdout",
          "text": [
            "   Manager  percent_sales\n",
            "0  Douglas      18.308990\n",
            "1  Hermann      27.963188\n",
            "2   Martha      36.187629\n",
            "3  Timothy      17.540193\n"
          ]
        }
      ]
    },
    {
      "cell_type": "markdown",
      "source": [
        "Q7-10 (Imdb data)\n",
        "\n"
      ],
      "metadata": {
        "id": "ti_dlJPVcXTL"
      }
    },
    {
      "cell_type": "code",
      "source": [
        "imdb_df = pd.read_csv('imdb.csv', on_bad_lines='skip')"
      ],
      "metadata": {
        "id": "496NA-XFZKJb"
      },
      "execution_count": 19,
      "outputs": []
    },
    {
      "cell_type": "code",
      "source": [
        "# Question 7\n",
        "q7 = imdb_df.iloc[4]['imdbRating']\n",
        "print(q7)"
      ],
      "metadata": {
        "colab": {
          "base_uri": "https://localhost:8080/"
        },
        "id": "QdttL_VEZdnX",
        "outputId": "a3f2789f-11d9-42d7-da89-3c9fb648eab7"
      },
      "execution_count": 21,
      "outputs": [
        {
          "output_type": "stream",
          "name": "stdout",
          "text": [
            "8.7\n"
          ]
        }
      ]
    },
    {
      "cell_type": "code",
      "source": [
        "#Question 8\n",
        "min_title = imdb_df.loc[imdb_df['duration'].idxmin(), 'title']\n",
        "max_title = imdb_df.loc[imdb_df['duration'].idxmax(), 'title']\n",
        "print(\"Title with shortest duration:\", min_title)\n",
        "print(\"Title with longest duration:\", max_title)"
      ],
      "metadata": {
        "colab": {
          "base_uri": "https://localhost:8080/"
        },
        "id": "jpPw0jgRZ9tf",
        "outputId": "5a675452-a4b6-4f76-c2b4-64574ae9af97"
      },
      "execution_count": 24,
      "outputs": [
        {
          "output_type": "stream",
          "name": "stdout",
          "text": [
            "Title with shortest duration: Traffic Crossing Leeds Bridge (1888)\n",
            "Title with longest duration: Baseball The National Pastime (TV Episode 1994)\n"
          ]
        }
      ]
    },
    {
      "cell_type": "code",
      "source": [
        "# Question 9:\n",
        "q9 = imdb_df.sort_values(by=['year', 'imdbRating'], ascending=[True, False])\n",
        "print(\"\\nQuestion 9: Sorted by year and rating\")\n",
        "print(q9[['title', 'year', 'imdbRating']].head())"
      ],
      "metadata": {
        "colab": {
          "base_uri": "https://localhost:8080/"
        },
        "id": "2jpgRfx5aUm6",
        "outputId": "f8aee2c3-6f49-4fba-cef4-9a694020fb9f"
      },
      "execution_count": 27,
      "outputs": [
        {
          "output_type": "stream",
          "name": "stdout",
          "text": [
            "\n",
            "Question 9: Sorted by year and rating\n",
            "                                        title    year  imdbRating\n",
            "13605            Roundhay Garden Scene (1888)  1888.0         7.8\n",
            "13282    Traffic Crossing Leeds Bridge (1888)  1888.0         7.2\n",
            "6705                  Blacksmith Scene (1893)  1893.0         6.3\n",
            "12316  Dickson Experimental Sound Film (1894)  1894.0         6.8\n",
            "6706            The Kiss in the Tunnel (1899)  1899.0         5.9\n"
          ]
        }
      ]
    },
    {
      "cell_type": "code",
      "source": [
        "# Question 10:\n",
        "q10 = imdb_df[(imdb_df['duration'] >= 1800) & (imdb_df['duration'] <= 10800)]\n",
        "print(\"\\nQuestion 10: Movies with duration between 30 and 180 mins\")\n",
        "print(q10[['title', 'duration']].head())"
      ],
      "metadata": {
        "colab": {
          "base_uri": "https://localhost:8080/"
        },
        "id": "9yFXpQA1b2b3",
        "outputId": "1c29d53c-d8c1-47ce-d2c0-098eb7d0ec0c"
      },
      "execution_count": 28,
      "outputs": [
        {
          "output_type": "stream",
          "name": "stdout",
          "text": [
            "\n",
            "Question 10: Movies with duration between 30 and 180 mins\n",
            "                              title  duration\n",
            "0  Der Vagabund und das Kind (1921)    3240.0\n",
            "1                 Goldrausch (1925)    5700.0\n",
            "2                 Metropolis (1927)    9180.0\n",
            "3                Der General (1926)    6420.0\n",
            "4      Lichter der Großstadt (1931)    5220.0\n"
          ]
        }
      ]
    },
    {
      "cell_type": "markdown",
      "source": [
        "Q11-15(Diamonds data)"
      ],
      "metadata": {
        "id": "i1uIRpeqc8_J"
      }
    },
    {
      "cell_type": "code",
      "source": [
        "# Question 11\n",
        "q11 = diamonds_df.duplicated().sum()\n",
        "print(q11)"
      ],
      "metadata": {
        "colab": {
          "base_uri": "https://localhost:8080/"
        },
        "id": "VRvUgb-gb3JT",
        "outputId": "d142a71d-9b05-4c2d-e061-0e8acd358b18"
      },
      "execution_count": 29,
      "outputs": [
        {
          "output_type": "stream",
          "name": "stdout",
          "text": [
            "149\n"
          ]
        }
      ]
    },
    {
      "cell_type": "code",
      "source": [
        "# Question 12\n",
        "q12 = diamonds_df.dropna(subset=['carat', 'cut'])\n",
        "print(q12)"
      ],
      "metadata": {
        "colab": {
          "base_uri": "https://localhost:8080/"
        },
        "id": "6T4ftV2zdE7j",
        "outputId": "28a95dbf-2645-46b5-f6b0-e4387480e488"
      },
      "execution_count": 30,
      "outputs": [
        {
          "output_type": "stream",
          "name": "stdout",
          "text": [
            "      carat        cut color clarity  depth  table   price     x     y     z\n",
            "0      0.23      Ideal     E     SI2   61.5   55.0   326.0  3.95  3.98  2.43\n",
            "1      0.21    Premium     E     SI1   59.8   61.0   326.0  3.89  3.84  2.31\n",
            "2      0.23       Good     E     VS1   56.9   65.0   327.0  4.05  4.07  2.31\n",
            "3      0.29    Premium     I     VS2   62.4   58.0   334.0  4.20  4.23  2.63\n",
            "4      0.31       Good     J     SI2   63.3   58.0   335.0  4.34  4.35  2.75\n",
            "...     ...        ...   ...     ...    ...    ...     ...   ...   ...   ...\n",
            "53938  0.72      Ideal     D     SI1   60.8   57.0  2757.0  5.75  5.76  3.50\n",
            "53939  0.72       Good     D     SI1   63.1   55.0  2757.0  5.69  5.75  3.61\n",
            "53940   0.7  Very Good     D     SI1   62.8   60.0  2757.0  5.66  5.68  3.56\n",
            "53941  0.86    Premium     H     SI2   61.0   58.0  2757.0  6.15  6.12  3.74\n",
            "53942  0.75      Ideal     D     SI2   62.2   55.0  2757.0  5.83  5.87  3.64\n",
            "\n",
            "[53941 rows x 10 columns]\n"
          ]
        }
      ]
    },
    {
      "cell_type": "code",
      "source": [
        "# Question 13\n",
        "q13 = diamonds_df.select_dtypes(include=['number'])\n",
        "print(q13)"
      ],
      "metadata": {
        "colab": {
          "base_uri": "https://localhost:8080/"
        },
        "id": "0og1u86xdJjb",
        "outputId": "9061c64c-a996-445a-a22a-2abef07412a8"
      },
      "execution_count": 31,
      "outputs": [
        {
          "output_type": "stream",
          "name": "stdout",
          "text": [
            "       depth  table   price     x     y     z\n",
            "0       61.5   55.0   326.0  3.95  3.98  2.43\n",
            "1       59.8   61.0   326.0  3.89  3.84  2.31\n",
            "2       56.9   65.0   327.0  4.05  4.07  2.31\n",
            "3       62.4   58.0   334.0  4.20  4.23  2.63\n",
            "4       63.3   58.0   335.0  4.34  4.35  2.75\n",
            "...      ...    ...     ...   ...   ...   ...\n",
            "53938   60.8   57.0  2757.0  5.75  5.76  3.50\n",
            "53939   63.1   55.0  2757.0  5.69  5.75  3.61\n",
            "53940   62.8   60.0  2757.0  5.66  5.68  3.56\n",
            "53941   61.0   58.0  2757.0  6.15  6.12  3.74\n",
            "53942   62.2   55.0  2757.0  5.83  5.87  3.64\n",
            "\n",
            "[53943 rows x 6 columns]\n"
          ]
        }
      ]
    },
    {
      "cell_type": "code",
      "source": [
        "# Question 14\n",
        "diamonds_df['volume'] = diamonds_df.apply(lambda x: x['x'] * x['y'] * x['z'] if x['depth'] > 60 else 8, axis=1)\n"
      ],
      "metadata": {
        "id": "XYNLTTm1dPub"
      },
      "execution_count": 34,
      "outputs": []
    },
    {
      "cell_type": "code",
      "source": [
        "# Question 15\n",
        "diamonds_df['price'] = diamonds_df['price'].fillna(diamonds_df['price'].mean())"
      ],
      "metadata": {
        "id": "dLr38rjzdRmj"
      },
      "execution_count": 35,
      "outputs": []
    }
  ]
}